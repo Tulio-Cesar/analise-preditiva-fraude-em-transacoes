{
  "nbformat": 4,
  "nbformat_minor": 0,
  "metadata": {
    "colab": {
      "name": "Seleção_de_Hiperparametros.ipynb",
      "provenance": [],
      "authorship_tag": "ABX9TyNzM6ndxAXQIetgGHDNh8ti",
      "include_colab_link": true
    },
    "kernelspec": {
      "name": "python3",
      "display_name": "Python 3"
    },
    "language_info": {
      "name": "python"
    }
  },
  "cells": [
    {
      "cell_type": "markdown",
      "metadata": {
        "id": "view-in-github",
        "colab_type": "text"
      },
      "source": [
        "<a href=\"https://colab.research.google.com/github/Tulio-Cesar/analise-preditiva-fraude-em-transacoes/blob/main/Sele%C3%A7%C3%A3o_de_Hiperparametros.ipynb\" target=\"_parent\"><img src=\"https://colab.research.google.com/assets/colab-badge.svg\" alt=\"Open In Colab\"/></a>"
      ]
    },
    {
      "cell_type": "code",
      "metadata": {
        "id": "AoPWPISquuZB"
      },
      "source": [
        "#Importação das Bibliotecas\n",
        "import pandas as pd\n",
        "from sklearn.neighbors import KNeighborsClassifier"
      ],
      "execution_count": null,
      "outputs": []
    },
    {
      "cell_type": "code",
      "metadata": {
        "id": "Khtgx7Udu3-Y"
      },
      "source": [
        "df = pd.read_csv('/content/drive/My Drive/Colab Notebooks/creditcard.csv')\n",
        "df.head()"
      ],
      "execution_count": null,
      "outputs": []
    },
    {
      "cell_type": "code",
      "metadata": {
        "id": "NFfpr6NDu5bP"
      },
      "source": [
        "x = df.iloc[:,0:18] #Previsores\n",
        "#x = df['Time', 'Amount']\n",
        "y = df['Class'] #Classe\n",
        "x.head()"
      ],
      "execution_count": null,
      "outputs": []
    },
    {
      "cell_type": "code",
      "metadata": {
        "id": "udncfjq8u67P"
      },
      "source": [
        "#treinamento e teste\n",
        "from sklearn.model_selection import train_test_split\n",
        "x_treino, x_teste, y_treino, y_teste = train_test_split(x, y, test_size = 0.25, random_state = 0)"
      ],
      "execution_count": null,
      "outputs": []
    },
    {
      "cell_type": "code",
      "metadata": {
        "id": "rTodf0nxu-J_"
      },
      "source": [
        "#balanceamento SMOTE\n",
        "from imblearn.under_sampling import RandomUnderSampler\n",
        "rus = RandomUnderSampler()\n",
        "x_treino, y_treino = rus.fit_sample(x_treino,y_treino)"
      ],
      "execution_count": null,
      "outputs": []
    },
    {
      "cell_type": "code",
      "metadata": {
        "id": "P7Wd5-P0vAQX"
      },
      "source": [
        "#balanceamento RU\n",
        "from imblearn.over_sampling import SMOTE\n",
        "smt = SMOTE(random_state=0) \n",
        "x_treino,y_treino = smt.fit_resample(x_treino,y_treino)"
      ],
      "execution_count": null,
      "outputs": []
    },
    {
      "cell_type": "markdown",
      "metadata": {
        "id": "Waw4ICRiwMPp"
      },
      "source": [
        "**k-NN**"
      ]
    },
    {
      "cell_type": "code",
      "metadata": {
        "id": "RIgAmhLCvFNX"
      },
      "source": [
        "#predição do modelo k-NN\n",
        "from sklearn.neighbors import KNeighborsClassifier\n",
        "knn = KNeighborsClassifier(metric='euclidean')\n",
        "knn.fit(x_treino, y_treino)\n",
        "resultado = knn.predict(x_teste)"
      ],
      "execution_count": null,
      "outputs": []
    },
    {
      "cell_type": "code",
      "metadata": {
        "id": "nr1MRvPtvaX4"
      },
      "source": [
        "#os parametros selecionados para a busca\n",
        "parametrosKNN = {'n_neighbors': list(range(1,31))}"
      ],
      "execution_count": null,
      "outputs": []
    },
    {
      "cell_type": "code",
      "metadata": {
        "id": "kpq0zE2dvSAQ"
      },
      "source": [
        "#treinamento da função de busca\n",
        "from sklearn.model_selection import RandomizedSearchCV\n",
        "rand = RandomizedSearchCV(knn, parametrosKNN, scoring='accuracy')\n",
        "rand.fit(x_treino, y_treino)\n",
        "print(rand.best_params_, rand.best_score_)"
      ],
      "execution_count": null,
      "outputs": []
    },
    {
      "cell_type": "code",
      "metadata": {
        "id": "vqn5Qf6LvGCP"
      },
      "source": [
        "#mostra a tabela com os melhores resultados\n",
        "print(rand.best_params_, rand.best_score_)\n",
        "tknn = pd.DataFrame(rand.cv_results_)[['params','split0_test_score','split1_test_score','split2_test_score','split3_test_score','split4_test_score','mean_test_score']] #gera a tabela com todos os testes de cada parametro\n",
        "tknn.round(4)"
      ],
      "execution_count": null,
      "outputs": []
    },
    {
      "cell_type": "markdown",
      "metadata": {
        "id": "DN1Tnip4wQBP"
      },
      "source": [
        "**SVM**"
      ]
    },
    {
      "cell_type": "code",
      "metadata": {
        "id": "4Ejjxc31wC_l"
      },
      "source": [
        "#predição do modelo SVM\n",
        "from sklearn.svm import SVC\n",
        "svm = SVC()\n",
        "svm.fit(x_treino, y_treino)\n",
        "resultado = svm.predict(x_teste)"
      ],
      "execution_count": null,
      "outputs": []
    },
    {
      "cell_type": "code",
      "metadata": {
        "id": "OwZVLm5iwTYf"
      },
      "source": [
        "#os parametros selecionados para a busca\n",
        "parametrosSVM = {'kernel':['rbf','poly','sigmoid','linear'],}"
      ],
      "execution_count": null,
      "outputs": []
    },
    {
      "cell_type": "code",
      "metadata": {
        "id": "Ads70Dh9wVWf"
      },
      "source": [
        "#treinamento da função de busca\n",
        "from sklearn.model_selection import RandomizedSearchCV\n",
        "rand = RandomizedSearchCV(svm, parametrosSVM, scoring='accuracy')\n",
        "rand.fit(x_treino, y_treino)"
      ],
      "execution_count": null,
      "outputs": []
    },
    {
      "cell_type": "code",
      "metadata": {
        "id": "FDUDQUJ2wY2_"
      },
      "source": [
        "#mostra a tabela com os melhores resultados\n",
        "print(rand.best_params_, rand.best_score_)\n",
        "tsvm = pd.DataFrame(rand.cv_results_)[['params','split0_test_score','split1_test_score','split2_test_score','split3_test_score','split4_test_score','mean_test_score']]\n",
        "tsvm.round(4)"
      ],
      "execution_count": null,
      "outputs": []
    },
    {
      "cell_type": "markdown",
      "metadata": {
        "id": "N1QWmI8BwpZ_"
      },
      "source": [
        "**Randon Forest**"
      ]
    },
    {
      "cell_type": "code",
      "metadata": {
        "id": "LRuM67kRwoi4"
      },
      "source": [
        "#predição do modelo RF\n",
        "from sklearn.ensemble import RandomForestClassifier\n",
        "rf = RandomForestClassifier()\n",
        "rf.fit(x_treino, y_treino)\n",
        "resultado = rf.predict(x_teste)"
      ],
      "execution_count": null,
      "outputs": []
    },
    {
      "cell_type": "code",
      "metadata": {
        "id": "GFmu8u4fwwuf"
      },
      "source": [
        "#os parametros selecionados para a busca\n",
        "parametrosRF = {'n_estimators':[90, 100, 200, 300, 500, 750, 1000, 1500, 2000]}"
      ],
      "execution_count": null,
      "outputs": []
    },
    {
      "cell_type": "code",
      "metadata": {
        "id": "--jPI_kxwyoY"
      },
      "source": [
        "#treinamento da função de busca\n",
        "from sklearn.model_selection import RandomizedSearchCV\n",
        "rand = RandomizedSearchCV(rf, parametrosRF, scoring='accuracy')\n",
        "rand.fit(x_treino, y_treino)\n",
        "print(rand.best_params_, rand.best_score_)"
      ],
      "execution_count": null,
      "outputs": []
    },
    {
      "cell_type": "code",
      "metadata": {
        "id": "A0RKDICMwfJ_"
      },
      "source": [
        "#mostra a tabela com os melhores resultados\n",
        "trf = pd.DataFrame((rand.cv_results_))[['params','split0_test_score', 'split1_test_score','split2_test_score','split3_test_score','split4_test_score','mean_test_score']]\n",
        "trf.round(4)"
      ],
      "execution_count": null,
      "outputs": []
    }
  ]
}